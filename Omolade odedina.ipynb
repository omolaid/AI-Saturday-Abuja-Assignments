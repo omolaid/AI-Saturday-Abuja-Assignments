{
 "cells": [
  {
   "cell_type": "markdown",
   "metadata": {},
   "source": [
    "#### Number 1.\n"
   ]
  },
  {
   "cell_type": "code",
   "execution_count": null,
   "metadata": {},
   "outputs": [],
   "source": [
    "#Dictionary containing information about me and my reasons for joining\n",
    "about_me = {'fullName': 'Omolade Temitope Odedina', 'reasonForAttendingAISaturday': 'To know what Machine Learning is all about and also to see how such knowledge can be of help to the society'}\n"
   ]
  },
  {
   "cell_type": "markdown",
   "metadata": {},
   "source": [
    "#### Number 2."
   ]
  },
  {
   "cell_type": "code",
   "execution_count": null,
   "metadata": {},
   "outputs": [],
   "source": [
    "#To print out information in the dictionary\n",
    "print('My name is %s and at the end of this Cohort, I want to %s' %(about_me['fullName'], about_me['reasonForAttendingAISaturday']) )"
   ]
  },
  {
   "cell_type": "markdown",
   "metadata": {},
   "source": [
    "#### Number 3,4 & 5."
   ]
  },
  {
   "cell_type": "code",
   "execution_count": 14,
   "metadata": {},
   "outputs": [
    {
     "name": "stdout",
     "output_type": "stream",
     "text": [
      "[2344, 12345, 12, 34, 13, 11, 67, 89, 12, 34]\n",
      "\n",
      "\n",
      "\n",
      " [2344, 12, 34, 12, 34]\n",
      "\n",
      "\n",
      "\n",
      " [12345, 13, 11, 67, 89]\n",
      "Number of even numbers:  5\n",
      "Number of Odd numbers:  5\n"
     ]
    }
   ],
   "source": [
    "lst = [] #create empty listt to put numbers in\n",
    "evenlst = [] #empty list for even numbers \n",
    "oddlst = []#empty list for odd numbers\n",
    "\n",
    "while(len(lst) <= 9): #while loop to put restriction on numbers of digits entered\n",
    "    number = int(input('Enter numbers (10 numbers): '))\n",
    "    lst.append(number)\n",
    "print('\\n',lst)\n",
    "\n",
    "for i in lst:\n",
    "    if i % 2 == 0:\n",
    "        evenlst.append(i) #put even numbers in even list\n",
    "    else:\n",
    "        oddlst.append(i) #put odd numbers in odd list\n",
    "print('\\n', evenlst)\n",
    "print('\\n', oddlst)\n",
    "\n",
    "    \n",
    "\n",
    "print('\\nNumber of even numbers: ', len(evenlst)) #length of list gives number of even numbers and odd numbers\n",
    "\n",
    "\n",
    "\n",
    "print('\\nNumber of Odd numbers: ', len(oddlst))\n"
   ]
  },
  {
   "cell_type": "code",
   "execution_count": null,
   "metadata": {},
   "outputs": [],
   "source": []
  }
 ],
 "metadata": {
  "kernelspec": {
   "display_name": "Python 3",
   "language": "python",
   "name": "python3"
  },
  "language_info": {
   "codemirror_mode": {
    "name": "ipython",
    "version": 3
   },
   "file_extension": ".py",
   "mimetype": "text/x-python",
   "name": "python",
   "nbconvert_exporter": "python",
   "pygments_lexer": "ipython3",
   "version": "3.6.4"
  }
 },
 "nbformat": 4,
 "nbformat_minor": 2
}
